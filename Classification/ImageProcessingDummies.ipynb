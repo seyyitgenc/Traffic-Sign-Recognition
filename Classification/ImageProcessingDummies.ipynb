{
 "cells": [
  {
   "cell_type": "code",
   "execution_count": null,
   "metadata": {},
   "outputs": [],
   "source": [
    "import numpy as np\n",
    "import os\n",
    "import cv2\n",
    "import matplotlib.pyplot as plt\n",
    "import random"
   ]
  },
  {
   "cell_type": "code",
   "execution_count": null,
   "metadata": {},
   "outputs": [],
   "source": [
    "dataPath='/home/mario/Graduation Project/Customize TSC/01-DataSet/images'"
   ]
  },
  {
   "cell_type": "code",
   "execution_count": null,
   "metadata": {},
   "outputs": [],
   "source": [
    "\"\"\"\n",
    "This function take the dictory-Path of images and:-\n",
    "1-Read image from each category file.\n",
    "2-resize images to 32x32x3.\n",
    "3-labeling image:-\n",
    "    0-->Stop\n",
    "    1-->Do not Enter\n",
    "    2-->Traffic jam is close\n",
    "    3-->Yeild\n",
    "4-Shuffle the array to randomized it.\n",
    "5-Divide into X,Y\n",
    "return X,Y\n",
    "\"\"\"\n",
    "def loadDataSet(dataPath):\n",
    "    data=[]\n",
    "    imageSize=32\n",
    "    for cat in os.listdir(dataPath):\n",
    "        label=int(cat[:2])\n",
    "        for i in os.listdir(dataPath+'/'+cat):\n",
    "            imagePath=dataPath+'/'+cat+'/'+i\n",
    "            try:\n",
    "                image=cv2.imread(imagePath,1)\n",
    "                image=cv2.resize(image,(imageSize,imageSize))\n",
    "                data.append([image,label])\n",
    "            except:\n",
    "                pass\n",
    "    \n",
    "    random.shuffle(data)\n",
    "    \n",
    "    X=[]\n",
    "    Y=[]\n",
    "    for img,l in data:\n",
    "        X.append(img)\n",
    "        Y.append(l)\n",
    "    X=np.array(X)\n",
    "    Y=np.array(Y).reshape(4739,1)\n",
    "    \n",
    "    return X,Y"
   ]
  },
  {
   "cell_type": "code",
   "execution_count": null,
   "metadata": {},
   "outputs": [],
   "source": [
    "#Load Data Set \n",
    "images,labels=loadDataSet(dataPath)"
   ]
  },
  {
   "cell_type": "code",
   "execution_count": null,
   "metadata": {},
   "outputs": [],
   "source": [
    "#plot some examples from our images\n",
    "for i in range(100):\n",
    "    plt.imshow(images[i])\n",
    "    plt.show()\n",
    "    print(labels[i])"
   ]
  },
  {
   "cell_type": "code",
   "execution_count": null,
   "metadata": {},
   "outputs": [],
   "source": [
    "#Compute the mean and Standard Deviation , becouse we need it Later in Normalize the images \n",
    "mu=np.mean(images)\n",
    "std=np.std(images)\n",
    "print(\"The Mean=\",mu)\n",
    "print(\"The Standard Deviation=\",std)"
   ]
  },
  {
   "cell_type": "code",
   "execution_count": null,
   "metadata": {},
   "outputs": [],
   "source": [
    "m=images.shape[0]\n",
    "imageShape=images.shape[1:]"
   ]
  },
  {
   "cell_type": "code",
   "execution_count": null,
   "metadata": {},
   "outputs": [],
   "source": [
    "#Splitting Data into Training Set and Testing Set\n",
    "from sklearn.model_selection import train_test_split\n",
    "x_train,x_test,y_train,y_test=train_test_split(images,labels,test_size=0.2,random_state=0)\n",
    "print(\"the Number of Training Example=\",x_train.shape[0])\n",
    "print(\"the Number of Testing Example=\",x_test.shape[0])"
   ]
  },
  {
   "cell_type": "code",
   "execution_count": null,
   "metadata": {},
   "outputs": [],
   "source": [
    "#Take some Example and convert them to Gray Scale To Study them historgram\n",
    "imgs=[]\n",
    "for i in range(100):\n",
    "    imgs.append(cv2.cvtColor(images[i],cv2.COLOR_RGB2GRAY))\n",
    "imgsGray=np.array(imgs)\n",
    "imgsColor=images[0:100]"
   ]
  },
  {
   "cell_type": "code",
   "execution_count": null,
   "metadata": {},
   "outputs": [],
   "source": [
    "#cv2.calcHist(images, channels, mask, histSize, ranges[, hist[, accumulate]])\n",
    "hist=cv2.calcHist([imgsGray[0]],[0],None,[256],[0,256])\n",
    "plt.plot(hist)\n",
    "plt.show()"
   ]
  },
  {
   "cell_type": "code",
   "execution_count": null,
   "metadata": {},
   "outputs": [],
   "source": [
    "#Trying to draw histograms of some images\n",
    "for i in range(10):\n",
    "    hist=cv2.calcHist([imgsGray[i]],[0],None,[256],[0,256])\n",
    "    plt.imshow(imgsGray[i],cmap='gray')\n",
    "    plt.show()\n",
    "    plt.plot(hist)\n",
    "    plt.show()\n",
    "    print(\"--------------------------------------------\")"
   ]
  },
  {
   "cell_type": "code",
   "execution_count": null,
   "metadata": {},
   "outputs": [],
   "source": [
    "#Apply Binary thresholding\n",
    "for i in range(100):\n",
    "    plt.imshow(imgsGray[i],cmap='gray')\n",
    "    plt.show()\n",
    "    _,thresold=cv2.threshold(imgsGray[i],150,255,cv2.THRESH_TOZERO)\n",
    "    plt.imshow(thresold,cmap='gray')\n",
    "    plt.show()\n",
    "    print(\"--------------------------------------------\")"
   ]
  },
  {
   "cell_type": "code",
   "execution_count": null,
   "metadata": {},
   "outputs": [],
   "source": []
  }
 ],
 "metadata": {
  "kernelspec": {
   "display_name": "Python 3",
   "language": "python",
   "name": "python3"
  },
  "language_info": {
   "codemirror_mode": {
    "name": "ipython",
    "version": 3
   },
   "file_extension": ".py",
   "mimetype": "text/x-python",
   "name": "python",
   "nbconvert_exporter": "python",
   "pygments_lexer": "ipython3",
   "version": "3.7.4"
  }
 },
 "nbformat": 4,
 "nbformat_minor": 2
}
